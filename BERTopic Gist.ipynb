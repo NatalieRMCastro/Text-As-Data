{
 "cells": [
  {
   "cell_type": "code",
   "execution_count": null,
   "id": "563dc848",
   "metadata": {},
   "outputs": [],
   "source": [
    "''' DATA QUERYING '''\n",
    "from datasets import load_dataset\n",
    "import pandas as pd\n",
    "\n",
    "''' TOPIC MODELING '''\n",
    "from bertopic import BERTopic\n",
    "import nltk\n",
    "from nltk.corpus import stopwords\n",
    "nltk.download('punkt')\n",
    "nltk.download('stopwords')\n",
    "stopwords = set(stopwords.words('english'))\n",
    "\n",
    "''' CUSTOM MODELS '''\n",
    "from sklearn.feature_extraction.text import CountVectorizer\n",
    "from sklearn.feature_extraction.text import TfidfVectorizer\n",
    "\n",
    "from sentence_transformers import SentenceTransformer\n",
    "\n",
    "''' DATA VISUALIZATION '''\n",
    "\n",
    "from plotly.subplots import make_subplots\n",
    "import plotly.graph_objects as go"
   ]
  },
  {
   "cell_type": "code",
   "execution_count": null,
   "id": "818c5ed2",
   "metadata": {},
   "outputs": [],
   "source": [
    "''' LOAD YOUR DATA IN THIS CELL'''\n",
    "\n",
    "## data = [YOUR DATA HERE]\n",
    "\n",
    "  ## We can put the dataset into a dataframe. This allows for easy parsing and data construction.\n",
    "df = pd.DataFrame(data)"
   ]
  },
  {
   "cell_type": "code",
   "execution_count": null,
   "id": "1dc2f864",
   "metadata": {},
   "outputs": [],
   "source": [
    "''' CREATING A CORPUS '''\n",
    "\n",
    "  ## Replace the text column here with the column that has your text data in it.\n",
    "docs = df['text'].to_list()"
   ]
  },
  {
   "cell_type": "code",
   "execution_count": null,
   "id": "6f0deac7",
   "metadata": {},
   "outputs": [],
   "source": [
    "''' SETTING UP THE MODEL '''\n",
    "  ## Instantiating a vectorizer model with a stopword range of 1 to 2 and appliying English stopwords\n",
    "  ## By applying stopwords at this stage, it will remove them from the topics\n",
    "vectorizer_model = CountVectorizer(ngram_range=(1, 2), stop_words=\"english\")\n",
    "\n",
    "  ## Instantiate topic model by calling BERTopic\n",
    "topic_model = BERTopic(vectorizer_model=vectorizer_model,verbose = True)"
   ]
  },
  {
   "cell_type": "code",
   "execution_count": null,
   "id": "2197bea2",
   "metadata": {},
   "outputs": [],
   "source": [
    "''' CALLING THE MODEL '''\n",
    "\n",
    "  ## Training the model with the documents\n",
    "topics, probs = topic_model.fit_transform(docs)"
   ]
  },
  {
   "cell_type": "code",
   "execution_count": null,
   "id": "f3909a3f",
   "metadata": {},
   "outputs": [],
   "source": [
    "''' EXAMINING OUTPUTS '''\n",
    "topic_info = topic_model.get_topic_info()\n",
    "topic_info"
   ]
  },
  {
   "cell_type": "code",
   "execution_count": null,
   "id": "650d3f26",
   "metadata": {},
   "outputs": [],
   "source": [
    "  ''' TOPIC VISUALIZATION '''\n",
    "topic_idm = topic_model.visualize_topics()\n",
    "topic_idm"
   ]
  },
  {
   "cell_type": "code",
   "execution_count": null,
   "id": "9d2a6f7e",
   "metadata": {},
   "outputs": [],
   "source": [
    "''' HIERARCHICAL TOPICS '''\n",
    "hierarchical_topics = topic_model.hierarchical_topics(docs)\n",
    "base_hierarchical = topic_model.visualize_hierarchical_documents(docs, hierarchical_topics)"
   ]
  },
  {
   "cell_type": "code",
   "execution_count": null,
   "id": "fb970a49",
   "metadata": {},
   "outputs": [],
   "source": [
    "base_hierarchical"
   ]
  }
 ],
 "metadata": {
  "kernelspec": {
   "display_name": "Python 3 (ipykernel)",
   "language": "python",
   "name": "python3"
  },
  "language_info": {
   "codemirror_mode": {
    "name": "ipython",
    "version": 3
   },
   "file_extension": ".py",
   "mimetype": "text/x-python",
   "name": "python",
   "nbconvert_exporter": "python",
   "pygments_lexer": "ipython3",
   "version": "3.10.12"
  }
 },
 "nbformat": 4,
 "nbformat_minor": 5
}
